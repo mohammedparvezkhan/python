{
 "cells": [
  {
   "cell_type": "markdown",
   "id": "d8bd0a5e-f59c-466b-b4fa-44a201b18ad3",
   "metadata": {},
   "source": [
    "## Notebook 1: Python Comments and Variables \n",
    "### Topics Covered:\n",
    "##### ➤ Python Comments\n",
    "##### ➤ Python Variables"
   ]
  },
  {
   "cell_type": "markdown",
   "id": "d2d22fe3-a0f7-48e0-9944-fee551929608",
   "metadata": {
    "jp-MarkdownHeadingCollapsed": true
   },
   "source": [
    "### ➤ Python Comments \n",
    "In Python, comments are lines in your code that the interpreter ignores. They're used to explain what the code does, making it easier to understand for you and others. \n",
    "Python supports two types of comments:\n",
    "1. Single-line comment\n",
    "2. Multi-line (or block) comment"
   ]
  },
  {
   "cell_type": "markdown",
   "id": "4e02f6ea-f321-410c-bc50-ed819fa0893a",
   "metadata": {},
   "source": [
    "#### 1. Single-line comment\n",
    "Starts with a # symbol. Everything after # on that line is considered a comment."
   ]
  },
  {
   "cell_type": "code",
   "execution_count": 37,
   "id": "6da8f88f-7cea-428b-a9b3-2c8560784205",
   "metadata": {},
   "outputs": [
    {
     "name": "stdout",
     "output_type": "stream",
     "text": [
      "Hello, World!\n"
     ]
    }
   ],
   "source": [
    "# This is a single-line comment\n",
    "print(\"Hello, World!\")  # This is also a comment\n"
   ]
  },
  {
   "cell_type": "markdown",
   "id": "b4d188c9-9bcb-47c8-b4a3-c1e698bb7ed0",
   "metadata": {},
   "source": [
    "#### 2. Multi-line (or block) comment\n",
    "Technically, Python doesn’t have a special syntax for multi-line comments, but you can use triple quotes ''' or \"\"\" to create multi-line strings that aren’t assigned to a variable. These are sometimes used as comments."
   ]
  },
  {
   "cell_type": "code",
   "execution_count": 15,
   "id": "bd22ce05-3dc1-49f5-b3dc-061086c7d83f",
   "metadata": {},
   "outputs": [
    {
     "name": "stdout",
     "output_type": "stream",
     "text": [
      "Python is awesome!\n"
     ]
    }
   ],
   "source": [
    "'''\n",
    "This is a multi-line comment\n",
    "It can have multiple lines\n",
    "'''\n",
    "print(\"Python is awesome!\")\n"
   ]
  },
  {
   "cell_type": "markdown",
   "id": "4489668c-96e8-4859-936a-3758fd27a2a8",
   "metadata": {
    "jp-MarkdownHeadingCollapsed": true
   },
   "source": [
    "#### Why use comments?\n",
    "1. To explain complex code \n",
    "2. To mark TODOs \n",
    "3. To temporarily disable code (comment it out)\n",
    "4. To make code more readable"
   ]
  },
  {
   "cell_type": "markdown",
   "id": "1eef0c5d-2550-4ba4-b8a1-6740291a27a1",
   "metadata": {
    "jp-MarkdownHeadingCollapsed": true
   },
   "source": [
    "### ➤ Python Variables\n",
    "##### What is Variable\n",
    "##### Casting\n",
    "##### Get the Type\n",
    "##### Single or Double Quotes?\n",
    "##### Case-Sensitive\n",
    "##### Rules for Naming Variables in Python\n",
    "##### Multi Words Variable Names\n",
    "##### Python Variables - Assign Multiple Values\n",
    "##### Output Variables\n",
    "##### Global Variables"
   ]
  },
  {
   "cell_type": "markdown",
   "id": "aa50d284-9fa0-4c72-8b7e-0a435bf95857",
   "metadata": {
    "jp-MarkdownHeadingCollapsed": true
   },
   "source": [
    "#### What is Variable\n",
    "A variable is like a container or a label that stores a value in your program, so you can use it later.   \n",
    "Python has no command for declaring a variable.   \n",
    "A variable is created the moment you first assign a value to it."
   ]
  },
  {
   "cell_type": "code",
   "execution_count": 35,
   "id": "e5bdc0d0-35f5-443e-9a75-61912fdbba34",
   "metadata": {},
   "outputs": [],
   "source": [
    "# Example \n",
    "age = 25\n",
    "name = \"Parvez\"\n",
    "height = 5.9"
   ]
  },
  {
   "cell_type": "markdown",
   "id": "737c5f60-b4ef-4ae3-91bc-f85cb0e93e40",
   "metadata": {},
   "source": [
    "Variables do not need to be declared with any particular type, and can even change type after they have been set."
   ]
  },
  {
   "cell_type": "code",
   "execution_count": 39,
   "id": "3f93256c-61fc-4854-9160-9051d7dd85da",
   "metadata": {},
   "outputs": [],
   "source": [
    "x = 10      # Integer\n",
    "x = \"Ten\"   # Now it's a string"
   ]
  },
  {
   "cell_type": "markdown",
   "id": "386c9239-0f88-444c-80b5-8dd354a37e24",
   "metadata": {
    "jp-MarkdownHeadingCollapsed": true
   },
   "source": [
    "#### Casting\n",
    "Casting is used to convert values between different data types, like:   \n",
    "int ➝ integer   \n",
    "float ➝ decimal number   \n",
    "str ➝ string (text)  "
   ]
  },
  {
   "cell_type": "code",
   "execution_count": 1,
   "id": "79aadefb-94f3-45dd-b0b1-b8818f137e64",
   "metadata": {},
   "outputs": [
    {
     "name": "stdout",
     "output_type": "stream",
     "text": [
      "63.0\n",
      "4\n",
      "11\n",
      "10.5\n"
     ]
    }
   ],
   "source": [
    "# Example\n",
    "\n",
    "x = 63            # integer\n",
    "y = float(x)     # convert to float\n",
    "print(y)         # Output: 5.0\n",
    "\n",
    "a = 4.7\n",
    "b = int(a)       # convert to int (decimal part removed)\n",
    "print(b)         # Output: 3\n",
    "\n",
    "num = 11\n",
    "text = str(num)  # convert to string\n",
    "print(text)      # Output: \"10\"\n",
    "\n",
    "num_float = 10.5         # integer\n",
    "foalt_to_text = str(num_float)  # convert to string\n",
    "print(foalt_to_text)      \n"
   ]
  },
  {
   "cell_type": "markdown",
   "id": "6dd67b94-7bf5-446c-95f2-35994289a740",
   "metadata": {},
   "source": [
    "###### Important Notes:\n",
    "When converting from float to int, it truncates (removes) the decimal part, it doesn’t round.   \n",
    "If a string doesn't look like a number, it can’t be cast to int/float."
   ]
  },
  {
   "cell_type": "code",
   "execution_count": 6,
   "id": "8213df17-59f9-41a2-bd87-9b2a838c8911",
   "metadata": {
    "jupyter": {
     "source_hidden": true
    }
   },
   "outputs": [
    {
     "name": "stdout",
     "output_type": "stream",
     "text": [
      "123\n"
     ]
    }
   ],
   "source": [
    "# Example\n",
    "val = \"123\"\n",
    "print(int(val))   # ✅ Works\n",
    "\n",
    "val2 = \"hello\"\n",
    "# print(int(val2))  # ❌ Error"
   ]
  },
  {
   "cell_type": "markdown",
   "id": "9a5f9319-439c-4069-acc1-ded8ab25ccdf",
   "metadata": {
    "jp-MarkdownHeadingCollapsed": true
   },
   "source": [
    "#### Get the Type\n",
    "You can get the data type of a variable with the type() function.\n"
   ]
  },
  {
   "cell_type": "code",
   "execution_count": 13,
   "id": "857de63f-12f6-47d1-8537-c23909b4a659",
   "metadata": {},
   "outputs": [
    {
     "name": "stdout",
     "output_type": "stream",
     "text": [
      "<class 'int'>\n",
      "<class 'str'>\n"
     ]
    }
   ],
   "source": [
    "# Example\n",
    "x = 5\n",
    "y = \"John\"\n",
    "print(type(x))\n",
    "print(type(y))"
   ]
  },
  {
   "cell_type": "markdown",
   "id": "029faded-5d23-417f-bd46-71ae04045aac",
   "metadata": {
    "jp-MarkdownHeadingCollapsed": true
   },
   "source": [
    "#### Single or Double Quotes?\n",
    "String variables can be declared either by using single or double quotes:"
   ]
  },
  {
   "cell_type": "code",
   "execution_count": 17,
   "id": "e4939b62-dc7b-45bc-90be-dcfae1be7902",
   "metadata": {},
   "outputs": [],
   "source": [
    "# Example\n",
    "x = \"John\"\n",
    "# is the same as\n",
    "x = 'John'"
   ]
  },
  {
   "cell_type": "markdown",
   "id": "0986ab69-5487-458a-9bf3-e2b00b9c5aa2",
   "metadata": {
    "jp-MarkdownHeadingCollapsed": true
   },
   "source": [
    "#### Case-Sensitive\n",
    "Variable names are case-sensitive."
   ]
  },
  {
   "cell_type": "code",
   "execution_count": 21,
   "id": "724decf5-94c8-41ac-b7ed-8d6f25ef22f9",
   "metadata": {},
   "outputs": [],
   "source": [
    "# Example\n",
    "# This will create two variables:\n",
    "a = 4\n",
    "A = \"Sally\"\n",
    "#A will not overwrite a"
   ]
  },
  {
   "cell_type": "markdown",
   "id": "b75fb282-5eab-4918-98d0-cd8183aeeff3",
   "metadata": {
    "jp-MarkdownHeadingCollapsed": true
   },
   "source": [
    "#### Rules for Naming Variables in Python\n",
    "1. Must start with a letter or underscore (_\tname, _score)\n",
    "2. Cannot start with a number\t(❌ 1age)\n",
    "3. Can contain letters, numbers, and underscores\t(student_1, my_score)\n",
    "4. Case-sensitive\t(name ≠ Name)\n",
    "5. Cannot be a Python keyword (like if, while, class, True)\t(❌ class = 10)"
   ]
  },
  {
   "cell_type": "code",
   "execution_count": 27,
   "id": "be3e68fc-37e9-4bcf-af4a-c1b863b0bc92",
   "metadata": {},
   "outputs": [],
   "source": [
    "# Examples of Valid Variable Names\n",
    "age = 25\n",
    "_name = \"Parvez\"\n",
    "total_score1 = 99\n",
    "is_valid = True\n",
    "\n",
    "# Invalid Variable Names\n",
    "2name = \"John\"      # starts with a number ❌\n",
    "my-name = \"Ali\"     # dash not allowed ❌\n",
    "float = 5.6         # uses a built-in name ❌\n",
    "if = 10             # keyword ❌"
   ]
  },
  {
   "cell_type": "markdown",
   "id": "88006e9a-4520-4882-9bd6-4899a485b46b",
   "metadata": {
    "jp-MarkdownHeadingCollapsed": true
   },
   "source": [
    "#### Multi Words Variable Names\n",
    "Variable names with more than one word can be difficult to read.  \n",
    "There are several techniques you can use to make them more readable:\n",
    "\n",
    "##### Camel Case\n",
    "Each word, except the first, starts with a capital letter.\n",
    "\n",
    "##### Pascal Case\n",
    "Each word starts with a capital letter.\n",
    "\n",
    "##### Snake Case\n",
    "Each word is separated by an underscore character."
   ]
  },
  {
   "cell_type": "code",
   "execution_count": 31,
   "id": "127e6746-6353-4653-a873-8b32b8f1c3ff",
   "metadata": {},
   "outputs": [],
   "source": [
    "# example\n",
    "myVariableName = \"John\"   # Camel Case\n",
    "MyVariableName = \"John\"   # Pascal Case\n",
    "my_variable_name = \"John\" # Snake Case"
   ]
  },
  {
   "cell_type": "markdown",
   "id": "3a807163-7683-4dde-9880-f862a895c467",
   "metadata": {
    "jp-MarkdownHeadingCollapsed": true
   },
   "source": [
    "###### Tip  \n",
    "Use descriptive names Easier to understand (student_age, not sa)   \n",
    "Use snake_case for variable names (total_marks, final_score)  \n",
    "Avoid single letters (unless for loops) x, y are okay in math, not everywhere   \n",
    "Don’t overwrite built-in names (int, list, str, sum, etc.)  "
   ]
  },
  {
   "cell_type": "markdown",
   "id": "effbdaf4-a18d-4b4a-a043-280747e62b97",
   "metadata": {
    "jp-MarkdownHeadingCollapsed": true
   },
   "source": [
    "#### Python Variables - Assign Multiple Values\n",
    "##### Many Values to Multiple Variables\n",
    "Python allows you to assign values to multiple variables in one line.\n",
    "##### One Value to Multiple Variables\n",
    "And you can assign the same value to multiple variables in one line.\n",
    "##### Unpack a Collection\n",
    "If you have a collection of values in a list, tuple etc. Python allows you to extract the values into variables. This is called unpacking."
   ]
  },
  {
   "cell_type": "code",
   "execution_count": 46,
   "id": "9d43ba14-3182-4a8a-ac14-9ab2aec0bdc1",
   "metadata": {},
   "outputs": [
    {
     "name": "stdout",
     "output_type": "stream",
     "text": [
      "Orange\n",
      "Banana\n",
      "Cherry\n",
      "Orange\n",
      "Orange\n",
      "Orange\n",
      "apple\n",
      "banana\n",
      "cherry\n"
     ]
    }
   ],
   "source": [
    "# Example\n",
    "# Many Values to Multiple Variables\n",
    "x, y, z = \"Orange\", \"Banana\", \"Cherry\"\n",
    "print(x)\n",
    "print(y)\n",
    "print(z)\n",
    "\n",
    "# One Value to Multiple Variables\n",
    "x = y = z = \"Orange\"\n",
    "print(x)\n",
    "print(y)\n",
    "print(z)\n",
    "\n",
    "# Unpack a Collection\n",
    "fruits = [\"apple\", \"banana\", \"cherry\"]\n",
    "x, y, z = fruits\n",
    "print(x)\n",
    "print(y)\n",
    "print(z)"
   ]
  },
  {
   "cell_type": "markdown",
   "id": "2a8ade88-63cc-4a7e-881a-25a034881c98",
   "metadata": {
    "jp-MarkdownHeadingCollapsed": true
   },
   "source": [
    "#### Output Variables."
   ]
  },
  {
   "cell_type": "code",
   "execution_count": 55,
   "id": "ef792e04-23e6-4eb3-8b58-20e789cf2ad0",
   "metadata": {},
   "outputs": [
    {
     "name": "stdout",
     "output_type": "stream",
     "text": [
      "Python is awesome\n",
      "Python is awesome\n",
      "Python is awesome\n",
      "15\n",
      "5 John\n"
     ]
    }
   ],
   "source": [
    "# The Python print() function is often used to output variables\n",
    "x = \"Python is awesome\"\n",
    "print(x)\n",
    "\n",
    "# In the print() function, you output multiple variables, separated by a comma:\n",
    "x = \"Python\"\n",
    "y = \"is\"\n",
    "z = \"awesome\"\n",
    "print(x, y, z)\n",
    "\n",
    "# You can also use the + operator to output multiple variables:\n",
    "# Notice the space character after \"Python \" and \"is \", without them the result would be \"Pythonisawesome\".\n",
    "x = \"Python \"\n",
    "y = \"is \"\n",
    "z = \"awesome\"\n",
    "print(x + y + z)\n",
    "\n",
    "# For numbers, the + character works as a mathematical operator:\n",
    "x = 5\n",
    "y = 10\n",
    "print(x + y)\n",
    "\n",
    "# In the print() function, when you try to combine a string and a number with the + operator, Python will give you an error:\n",
    "x = 5\n",
    "y = \"John\"\n",
    "# print(x + y)\n",
    "\n",
    "# The best way to output multiple variables in the print() function is to separate them with commas, which even support different data types:\n",
    "x = 5\n",
    "y = \"John\"\n",
    "print(x, y)"
   ]
  },
  {
   "cell_type": "markdown",
   "id": "64e44b74-4521-4690-ad70-c61bc930e121",
   "metadata": {
    "jp-MarkdownHeadingCollapsed": true
   },
   "source": [
    "#### Global Variables\n",
    "Variables that are created outside of a function (as in all of the examples in the previous pages) are known as global variables.   \n",
    "Global variables can be used by everyone, both inside of functions and outside."
   ]
  },
  {
   "cell_type": "code",
   "execution_count": 59,
   "id": "17ea55d7-dae3-45ba-919d-868061c7d08c",
   "metadata": {},
   "outputs": [
    {
     "name": "stdout",
     "output_type": "stream",
     "text": [
      "Python is awesome\n"
     ]
    }
   ],
   "source": [
    "# Create a variable outside of a function, and use it inside the function\n",
    "\n",
    "x = \"awesome\"\n",
    "\n",
    "def myfunc():\n",
    "  print(\"Python is \" + x)\n",
    "\n",
    "myfunc()"
   ]
  },
  {
   "cell_type": "markdown",
   "id": "8a085e0f-7531-4471-8eca-d93a38613366",
   "metadata": {},
   "source": [
    "If you create a variable with the same name inside a function, this variable will be local, and can only be used inside the function.    \n",
    "The global variable with the same name will remain as it was, global and with the original value."
   ]
  },
  {
   "cell_type": "code",
   "execution_count": 62,
   "id": "20fe57f8-8de4-4f39-b193-943e5129c20b",
   "metadata": {},
   "outputs": [
    {
     "name": "stdout",
     "output_type": "stream",
     "text": [
      "Python is fantastic\n",
      "Python is awesome\n"
     ]
    }
   ],
   "source": [
    "# Create a variable inside a function, with the same name as the global variable\n",
    "\n",
    "x = \"awesome\"\n",
    "\n",
    "def myfunc():\n",
    "  x = \"fantastic\"\n",
    "  print(\"Python is \" + x)\n",
    "\n",
    "myfunc()\n",
    "\n",
    "print(\"Python is \" + x)"
   ]
  },
  {
   "cell_type": "markdown",
   "id": "a0fe7833-8749-4506-bec4-3dda1017ee57",
   "metadata": {},
   "source": [
    "##### The global Keyword\n",
    "Normally, when you create a variable inside a function, that variable is local, and can only be used inside that function.   \n",
    "To create a global variable inside a function, you can use the global keyword."
   ]
  },
  {
   "cell_type": "code",
   "execution_count": 65,
   "id": "e0995592-9a3b-46cf-a645-9264ae0a8eb3",
   "metadata": {},
   "outputs": [
    {
     "name": "stdout",
     "output_type": "stream",
     "text": [
      "Python is fantastic\n"
     ]
    }
   ],
   "source": [
    "# If you use the global keyword, the variable belongs to the global scope:\n",
    "\n",
    "def myfunc():\n",
    "  global x\n",
    "  x = \"fantastic\"\n",
    "\n",
    "myfunc()\n",
    "\n",
    "print(\"Python is \" + x)"
   ]
  },
  {
   "cell_type": "code",
   "execution_count": 67,
   "id": "c27ad73f-78c2-4bd0-ba99-3d352acefd22",
   "metadata": {},
   "outputs": [
    {
     "name": "stdout",
     "output_type": "stream",
     "text": [
      "Python is fantastic\n"
     ]
    }
   ],
   "source": [
    "# To change the value of a global variable inside a function, refer to the variable by using the global keyword:\n",
    "\n",
    "x = \"awesome\"\n",
    "\n",
    "def myfunc():\n",
    "  global x\n",
    "  x = \"fantastic\"\n",
    "\n",
    "myfunc()\n",
    "\n",
    "print(\"Python is \" + x)"
   ]
  },
  {
   "cell_type": "code",
   "execution_count": null,
   "id": "c935431e-7a3a-45d6-a86d-f5e99c170558",
   "metadata": {},
   "outputs": [],
   "source": []
  }
 ],
 "metadata": {
  "kernelspec": {
   "display_name": "Python [conda env:base] *",
   "language": "python",
   "name": "conda-base-py"
  },
  "language_info": {
   "codemirror_mode": {
    "name": "ipython",
    "version": 3
   },
   "file_extension": ".py",
   "mimetype": "text/x-python",
   "name": "python",
   "nbconvert_exporter": "python",
   "pygments_lexer": "ipython3",
   "version": "3.12.7"
  }
 },
 "nbformat": 4,
 "nbformat_minor": 5
}
